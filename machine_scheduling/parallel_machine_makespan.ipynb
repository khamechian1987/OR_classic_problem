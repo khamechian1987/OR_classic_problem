{
 "cells": [
  {
   "cell_type": "markdown",
   "metadata": {},
   "source": [
    "## **Min total completion time by single machine**"
   ]
  },
  {
   "cell_type": "markdown",
   "metadata": {},
   "source": [
    " ***MIP Model***"
   ]
  },
  {
   "cell_type": "markdown",
   "metadata": {},
   "source": [
    "***Indices and Parameters***\n",
    "\n",
    "- $J = \\{1, 2, ..., n\\}$: A set of jobs\n",
    "- $I = \\{1, 2, ..., n\\}$: A set of machines\n",
    "- $p_j$: Processing time of job j.\n",
    "\n",
    "***Decision Variables***\n",
    "\n",
    "- $w$: makespan\n",
    "- $x_{i,j}$: Binary variable that equals 1 if job $j$ is assigned to machine $i$"
   ]
  },
  {
   "cell_type": "markdown",
   "metadata": {},
   "source": [
    "**Objective Function:**\n",
    "\n",
    "\n",
    "$$ \\text{Minimize} \\quad w $$\n",
    "\n",
    "**Constraints:**\n",
    "\n",
    "1. $$ \\sum_{i \\in I} x_{ij} = 1 \\quad \\forall j \\in J$$\n",
    "2. $$ w \\geq \\sum_{j in J} p_j \\cdot x_{ij} \\quad \\forall i \\in I $$"
   ]
  },
  {
   "cell_type": "markdown",
   "metadata": {},
   "source": [
    "***Code***"
   ]
  },
  {
   "cell_type": "code",
   "execution_count": 5,
   "metadata": {},
   "outputs": [],
   "source": [
    "import pulp\n",
    "\n",
    "class MinMakespanParallelMachine:\n",
    "    def __init__(self, I,J,P):\n",
    "        self.I = I\n",
    "        self.J = J\n",
    "        self.p = P\n",
    "        #initialize the model\n",
    "        self.problem = pulp.LpProblem(\"MinMakespanParallelMachine\", pulp.LpMinimize)\n",
    "        #DVs\n",
    "        self.w = pulp.LpVariable(\"w\", lowBound = 0, cat = pulp.LpContinuous)\n",
    "        self.x = pulp.LpVariable.dicts(\"x\", [(i,j) for i in self.I for j in self.J], cat = pulp.LpBinary)\n",
    "    def model(self):\n",
    "        #obj\n",
    "        self.problem += self.w\n",
    "        #constraints\n",
    "        #1\n",
    "        for j in self.J:\n",
    "            self.problem += pulp.lpSum([self.x[(i,j)] for i in self.I]) == 1\n",
    "        #2\n",
    "        for i in self.I:\n",
    "            self.problem += pulp.lpSum(self.x[(i,j)] * self.p[j] for j in self.J) <= self.w\n",
    "    def solve(self):\n",
    "        self.problem.solve()\n",
    "        # Use CPLEX solver\n",
    "        # self.problem.solve(pulp.CPLEX_PY(msg=True))\n",
    "        if self.problem.status == pulp.LpStatusOptimal:\n",
    "            print(f\"Optimal value is: {pulp.value(self.problem.objective)}\")\n",
    "            for i in self.I:\n",
    "                for j in self.J:\n",
    "                    if self.x[(i,j)].value() == 1:\n",
    "                        print(f\"Machine {i} is assigned job {j}\")\n",
    "        else:\n",
    "            print(\"No optimal solution found.\")\n",
    "\n",
    "\n",
    "\n",
    "\n"
   ]
  },
  {
   "cell_type": "code",
   "execution_count": 6,
   "metadata": {},
   "outputs": [
    {
     "name": "stdout",
     "output_type": "stream",
     "text": [
      "Optimal value is: 5.0\n",
      "Machine 1 is assigned job 1\n",
      "Machine 1 is assigned job 2\n",
      "Machine 2 is assigned job 3\n"
     ]
    }
   ],
   "source": [
    "# Example usage\n",
    "I = [1, 2]  # Indices for machines\n",
    "J = [1, 2, 3]  # Indices for jobs\n",
    "P = {1: 2, 2: 3, 3: 4}  # Processing times\n",
    "\n",
    "scheduler = MinMakespanParallelMachine(I, J, P)\n",
    "scheduler.model()\n",
    "scheduler.solve()"
   ]
  }
 ],
 "metadata": {
  "kernelspec": {
   "display_name": "Python 3",
   "language": "python",
   "name": "python3"
  },
  "language_info": {
   "codemirror_mode": {
    "name": "ipython",
    "version": 3
   },
   "file_extension": ".py",
   "mimetype": "text/x-python",
   "name": "python",
   "nbconvert_exporter": "python",
   "pygments_lexer": "ipython3",
   "version": "3.11.9"
  }
 },
 "nbformat": 4,
 "nbformat_minor": 2
}
