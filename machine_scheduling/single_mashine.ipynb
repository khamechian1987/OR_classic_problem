{
 "cells": [
  {
   "cell_type": "markdown",
   "metadata": {},
   "source": [
    "## **Min total completion time by single machine**"
   ]
  },
  {
   "cell_type": "markdown",
   "metadata": {},
   "source": [
    " ***MIP Model***"
   ]
  },
  {
   "cell_type": "markdown",
   "metadata": {},
   "source": [
    "***Indices and Parameters***\n",
    "\n",
    "- $J = \\{1, 2, ..., n\\}$: A set of machines\n",
    "- $p_{j}$: processing time of job $j$.\n"
   ]
  },
  {
   "cell_type": "markdown",
   "metadata": {},
   "source": [
    "***Decision Variables***\n",
    "\n",
    "- $x_j$: completion time of job $j$\n",
    "- $z_{i,j}$: Binary variable that equals 1 if $j$ ---> $i$. otherwise 0"
   ]
  },
  {
   "cell_type": "markdown",
   "metadata": {},
   "source": [
    "**Objective Function:**\n",
    "\n",
    "\n",
    "$$ \\text{Minimize} \\quad Z = \\sum_{j \\in J} x_j $$\n",
    "\n",
    "**Constraints:**\n",
    "\n",
    "1. $$ x_j + p_i - x_i \\leq M \\cdot z_{ij}, \\quad \\forall i, j \\in J, i \\neq j $$\n",
    "2. $$ x_i + p_j - x_j \\leq M \\cdot (1 - z_{ij}), \\quad \\forall i, j \\in J, i \\neq j $$\n",
    "3. $$ x_j \\geq p_j, \\quad \\forall j \\in J $$"
   ]
  },
  {
   "cell_type": "markdown",
   "metadata": {},
   "source": [
    "***Code***"
   ]
  },
  {
   "cell_type": "code",
   "execution_count": 5,
   "metadata": {},
   "outputs": [],
   "source": [
    "import pulp\n",
    "\n",
    "class SingleMachineTCT:\n",
    "    M = 10000\n",
    "    def __init__(self, I, J, p):\n",
    "        self.J = J\n",
    "        self.I = I\n",
    "        self.p = p\n",
    "        self.M = 10000\n",
    "\n",
    "        #initialize the problem\n",
    "        self.problem = pulp.LpProblem(\"SingleMachineTCT\", pulp.LpMinimize)\n",
    "        \n",
    "        #DVs\n",
    "        self.x = pulp.LpVariable.dicts(\"x\", J, lowBound = 0 , cat = pulp.LpContinuous)\n",
    "        self.z = pulp.LpVariable.dicts(\"z\", [(i,j) for i in self.I for j in self.J if i!=j], cat = pulp.LpBinary)\n",
    "    \n",
    "    def model(self):\n",
    "        #obj\n",
    "        self.problem += pulp.lpSum(self.x[j] for j in self.J)\n",
    "\n",
    "        #constraints\n",
    "        #1 and 2\n",
    "        for i in self.I:\n",
    "            for j in self.J:\n",
    "                if i != j:\n",
    "                    self.problem += self.x[j] + self.p[i] - self.x[i] <= self.M*self.z[(i,j)]\n",
    "                    self.problem += self.x[i] + self.p[j] -self.x[j] <= self.M*(1 - self.z[(i,j)])\n",
    "        #3\n",
    "        for j in self.J:\n",
    "            self.problem += self.x[j] >= self.p[j]\n",
    "    \n",
    "    def solve(self):\n",
    "        self.problem.solve()\n",
    "        if self.problem.status == pulp.LpStatusOptimal:\n",
    "            print(f\"Optimal value is: {pulp.value(self.problem.objective)}\")\n",
    "            for j in self.J:\n",
    "                print(f\"Job {j} completion time: {self.x[j].value()}\")\n",
    "            for i,j in self.z:\n",
    "                if i != j:\n",
    "                    print(f\"z_{i}_{j} (Job {i} precedes Job {j}): {self.z[(i, j)].value()}\")\n",
    "\n",
    "        else:\n",
    "            print(\"No optimal solution found.\")"
   ]
  },
  {
   "cell_type": "code",
   "execution_count": 6,
   "metadata": {},
   "outputs": [
    {
     "name": "stdout",
     "output_type": "stream",
     "text": [
      "Optimal value is: 30.0\n",
      "Job 0 completion time: 5.0\n",
      "Job 1 completion time: 14.0\n",
      "Job 2 completion time: 2.0\n",
      "Job 3 completion time: 9.0\n",
      "z_0_1 (Job 0 precedes Job 1): 1.0\n",
      "z_0_2 (Job 0 precedes Job 2): 0.0\n",
      "z_0_3 (Job 0 precedes Job 3): 1.0\n",
      "z_1_0 (Job 1 precedes Job 0): 0.0\n",
      "z_1_2 (Job 1 precedes Job 2): 0.0\n",
      "z_1_3 (Job 1 precedes Job 3): 0.0\n",
      "z_2_0 (Job 2 precedes Job 0): 1.0\n",
      "z_2_1 (Job 2 precedes Job 1): 1.0\n",
      "z_2_3 (Job 2 precedes Job 3): 1.0\n",
      "z_3_0 (Job 3 precedes Job 0): 0.0\n",
      "z_3_1 (Job 3 precedes Job 1): 1.0\n",
      "z_3_2 (Job 3 precedes Job 2): 0.0\n"
     ]
    }
   ],
   "source": [
    "p = [3, 5, 2, 4]  # Processing times for jobs 1, 2, 3, and 4 respectively\n",
    "I = J = [0, 1, 2, 3]  # Job indices in Python typically start at 0\n",
    "\n",
    "single_machine = SingleMachineTCT(I,J,p)\n",
    "single_machine.model()\n",
    "single_machine.solve()"
   ]
  }
 ],
 "metadata": {
  "kernelspec": {
   "display_name": "Python 3",
   "language": "python",
   "name": "python3"
  },
  "language_info": {
   "codemirror_mode": {
    "name": "ipython",
    "version": 3
   },
   "file_extension": ".py",
   "mimetype": "text/x-python",
   "name": "python",
   "nbconvert_exporter": "python",
   "pygments_lexer": "ipython3",
   "version": "3.10.3"
  }
 },
 "nbformat": 4,
 "nbformat_minor": 2
}
