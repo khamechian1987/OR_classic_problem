{
 "cells": [
  {
   "cell_type": "markdown",
   "metadata": {},
   "source": [
    "## **Max covering problem**"
   ]
  },
  {
   "cell_type": "markdown",
   "metadata": {},
   "source": [
    "build a given number of facilities to cover as many demands as possible."
   ]
  },
  {
   "cell_type": "markdown",
   "metadata": {},
   "source": [
    " ***MIP Model***"
   ]
  },
  {
   "cell_type": "markdown",
   "metadata": {},
   "source": [
    "***Indices and Parameters***\n",
    "\n",
    "- $I = \\{1, 2, ..., m\\}$: A set of demand points.\n",
    "- $J = \\{1, 2, ..., n\\}$: A set of potential facility locations.\n",
    "- $d_{ij}$: Distance from demand point $i$ to location $j$, for $i \\in I, j \\in J$, where $d_{ij} > 0$.\n",
    "- $p$: max number of facilities allowed to build.\n",
    "- $a_{ij}$: Binary parameter, where $a_{ij} = 1$ if $d_{ij} < s$ (i.e., demand $i$ can be covered by location $j$), or $0$ otherwise."
   ]
  },
  {
   "cell_type": "markdown",
   "metadata": {},
   "source": [
    "***Decision Variables***\n",
    "\n",
    "- $x_j$: Binary variable that equals 1 if a facility is allocated at location $j$ and 0 otherwise, for $j \\in J$.\n",
    "- $y_i$: Binary variable that equals 1 demand $i$ is covered by any facility. otherwise 0."
   ]
  },
  {
   "cell_type": "markdown",
   "metadata": {},
   "source": [
    "***Objective Function***\n",
    "\n",
    "Maximize the number of covered demand points:\n",
    "\n",
    "$$ \\text{Maximize } \\sum_{i \\in I} y_i $$\n"
   ]
  },
  {
   "cell_type": "markdown",
   "metadata": {},
   "source": [
    "***Constraints***\n",
    "\n",
    "1. coverage constraint: Ensure $y_i$ is 1 if demand $i$ is covered by at least one located facility:\n",
    "\n",
    "$$ y_i \\leq \\sum_{j \\in J} a_{ij} x_j, \\quad \\forall i \\in I $$\n",
    "\n",
    "This constraint guarantees that if demand point $i$ is covered by any facility within the service level, $y_i$ should be 1. It effectively ties the coverage decision to the actual placement of facilities and their ability to cover demand points within the service level.\n",
    "\n",
    "2. Facility Limitation: Limit the number of facilities that can be located:\n",
    "\n",
    "$$ \\sum_{j \\in J} x_j \\leq p $$\n",
    "\n",
    "This constraint restricts the total number of facilities to be located to $p$, ensuring the solution adheres to the maximum allowed facility placements.\n"
   ]
  },
  {
   "cell_type": "markdown",
   "metadata": {
    "vscode": {
     "languageId": "plaintext"
    }
   },
   "source": [
    "***Code***"
   ]
  },
  {
   "cell_type": "code",
   "execution_count": null,
   "metadata": {},
   "outputs": [],
   "source": [
    "import pulp\n",
    "\n",
    "class MaxCoveringProblem:\n",
    "    def __init__(self, I, J, d, s, p):\n",
    "        \"\"\"\n",
    "        Initializes the Max Covering Problem model.\n",
    "\n",
    "        Parameters:\n",
    "        - I: Set of demand points.\n",
    "        - J: Set of potential facility locations.\n",
    "        - d: Dictionary with keys (i, j) representing distances from demand i to location j.\n",
    "        - s: Service level, a maximum distance for demands to be considered covered.\n",
    "        - p: Max number of facilities allowed to build\n",
    "        \"\"\"\n",
    "        self.I = I\n",
    "        self.J = J\n",
    "        self.d = d\n",
    "        self.s = s\n",
    "        self.p = p \n",
    "\n",
    "        #creating a_ij\n",
    "        self.a = {(i, j): 1 if d[(i, j)] < s else 0 for i in I for j in J}\n",
    "\n",
    "        #initialize the problem\n",
    "        self.problem = pulp.LpProblem(\"MaxCoveringProblem\", pulp.LpMaximize)\n",
    "\n",
    "        #DVs\n",
    "        self.x = pulp.LpVariable.dicts(\"x\", J, cat=pulp.LpBinary)\n",
    "        self.y = pulp.LpVariable.dicts(\"y\", I, cat=pulp.LpBinary)\n",
    "\n",
    "    def build_model(self):\n",
    "        \"\"\"\n",
    "        Builds the MIP model for the max covering problem.\n",
    "        \"\"\"\n",
    "        #obj\n",
    "        self.problem += pulp.lpSum(self.y[i] for i in self.I)\n",
    "\n",
    "        # constraints\n",
    "        #1. coverage constraint: Ensure y_i is 1 if demand i is covered by at least one located facility:\n",
    "        for i in self.I:\n",
    "            self.problem += pulp.lpSum(self.a[(i, j)] * self.x[j] for j in self.J) >= self.y[i]\n",
    "\n",
    "        #2. Facility Limitation: Limit the number of facilities that can be located:\n",
    "        self.problem += pulp.lpSum(self.x[j] for j in self.J) <= self.p\n",
    "    \n",
    "    def solve(self):\n",
    "        result_status = self.problem.solve()\n",
    "        \n",
    "        # Check if the solution is optimal\n",
    "        if pulp.LpStatus[result_status] == \"Optimal\":\n",
    "            print(\"Status:\", pulp.LpStatus[result_status])\n",
    "\n",
    "            # Print the solution\n",
    "            for j in self.J:\n",
    "                if self.x[j].value() == 1:\n",
    "                    print(f\"Facility at location {j} is allocated.\")\n",
    "            for i in self.I:\n",
    "                if self.y[i].value() == 1:\n",
    "                    print(f\"demand {i} is satisfied.\")\n",
    "        else:\n",
    "            print(\"No optimal solution found. Status:\", pulp.LpStatus[result_status])\n",
    "\n",
    "\n",
    "\n"
   ]
  },
  {
   "cell_type": "markdown",
   "metadata": {},
   "source": [
    "Example:"
   ]
  },
  {
   "cell_type": "code",
   "execution_count": null,
   "metadata": {},
   "outputs": [],
   "source": [
    "# Example parameters\n",
    "I = [1, 2, 3, 4, 5]\n",
    "J = [1, 2, 3, 4]\n",
    "d = {\n",
    "    (1, 1): 8, (1, 2): 10, (1, 3): 15, (1, 4): 16,\n",
    "    (2, 1): 12, (2, 2): 2, (2, 3): 4, (2, 4): 14,\n",
    "    (3, 1): 14, (3, 2): 5, (3, 3): 8, (3, 4): 7,\n",
    "    (4, 1): 5, (4, 2): 8, (4, 3): 10, (4, 4): 6,\n",
    "    (5, 1): 10, (5, 2): 15, (5, 3): 6, (5, 4): 9,\n",
    "}\n",
    "s = 10\n",
    "p = 2\n",
    "\n",
    "problem = MaxCoveringProblem(I,J,d,s,p)\n",
    "problem.build_model()\n",
    "problem.solve()"
   ]
  }
 ],
 "metadata": {
  "kernelspec": {
   "display_name": "Python 3",
   "language": "python",
   "name": "python3"
  },
  "language_info": {
   "codemirror_mode": {
    "name": "ipython",
    "version": 3
   },
   "file_extension": ".py",
   "mimetype": "text/x-python",
   "name": "python",
   "nbconvert_exporter": "python",
   "pygments_lexer": "ipython3",
   "version": "3.10.3"
  }
 },
 "nbformat": 4,
 "nbformat_minor": 2
}
