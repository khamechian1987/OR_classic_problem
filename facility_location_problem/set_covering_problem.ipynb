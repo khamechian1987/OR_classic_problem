{
 "cells": [
  {
   "cell_type": "markdown",
   "metadata": {},
   "source": [
    "## **Set covering problem**"
   ]
  },
  {
   "cell_type": "markdown",
   "metadata": {},
   "source": [
    "build a minimum number of facilities to cover all demands."
   ]
  },
  {
   "cell_type": "markdown",
   "metadata": {},
   "source": [
    " ***MIP Model***"
   ]
  },
  {
   "cell_type": "markdown",
   "metadata": {},
   "source": [
    "***Indices and Parameters***\n",
    "\n",
    "- $I = \\{1, 2, ..., m\\}$: A set of demand points.\n",
    "- $J = \\{1, 2, ..., n\\}$: A set of potential facility locations.\n",
    "- $d_{ij}$: Distance from demand point $i$ to location $j$, for $i \\in I, j \\in J$, where $d_{ij} > 0$.\n",
    "- $s$: A given service level, indicating that demand $i$ is said to be covered by location $j$ if $d_{ij} < s$.\n",
    "- $a_{ij}$: Binary parameter, where $a_{ij} = 1$ if $d_{ij} < s$ (i.e., demand $i$ can be covered by location $j$), or $0$ otherwise.\n"
   ]
  },
  {
   "cell_type": "markdown",
   "metadata": {},
   "source": [
    "***Decision Variables***\n",
    "\n",
    "- $x_j$: Binary variable that equals 1 if a facility is allocated at location $j$ and 0 otherwise, for $j \\in J$.\n",
    "\n"
   ]
  },
  {
   "cell_type": "markdown",
   "metadata": {},
   "source": [
    "***Objective Function***\n",
    "\n",
    "Minimize the total number of facilities allocated:\n",
    "\n",
    "$$ \\text{Minimize } Z = \\sum_{j \\in J} x_j $$\n",
    "\n",
    "This objective seeks to allocate as few facilities as possible while meeting all coverage requirements.\n",
    "\n",
    "***Constraints***\n",
    "\n",
    "Ensure every demand point is covered by at least one facility within the service level $s$, using the binary parameter $a_{ij}$:\n",
    "\n",
    "$$ \\sum_{j \\in J} a_{ij} x_j \\geq 1, \\quad \\forall i \\in I $$\n",
    "\n",
    "This constraint guarantees that each demand point $i$ is covered by at least one facility that is within the service level distance $s$ from it.\n",
    "\n",
    "***Variable Bounds***\n",
    "\n",
    "The decision variables are binary:\n",
    "\n",
    "$$ x_j \\in \\{0,1\\}, \\quad \\forall j \\in J $$\n"
   ]
  },
  {
   "cell_type": "markdown",
   "metadata": {},
   "source": [
    "***Code***"
   ]
  },
  {
   "cell_type": "code",
   "execution_count": null,
   "metadata": {},
   "outputs": [],
   "source": [
    "import pulp\n",
    "\n",
    "class SetCoveringProblem:\n",
    "    def __init__(self, I, J, d, s):\n",
    "        \"\"\"\n",
    "        Initializes the Set Covering Problem model.\n",
    "\n",
    "        Parameters:\n",
    "        - I: Set of demand points.\n",
    "        - J: Set of potential facility locations.\n",
    "        - d: Dictionary with keys (i, j) representing distances from demand i to location j.\n",
    "        - s: Service level, a maximum distance for demands to be considered covered.\n",
    "        \"\"\"\n",
    "        self.I = I\n",
    "        self.J = J\n",
    "        self.d = d\n",
    "        self.s = s\n",
    "        \n",
    "        # Calculate a_ij based on d_ij and s\n",
    "        self.a = {(i, j): 1 if d[(i, j)] < s else 0 for i in I for j in J}\n",
    "\n",
    "        # Initialize the problem\n",
    "        self.problem = pulp.LpProblem(\"SetCoveringProblem\", pulp.LpMinimize)\n",
    "        \n",
    "        # Decision variables\n",
    "        self.x = pulp.LpVariable.dicts(\"x\", J, cat=pulp.LpBinary)\n",
    "\n",
    "    def build_model(self):\n",
    "        \"\"\"\n",
    "        Builds the MIP model for the set covering problem.\n",
    "        \"\"\"\n",
    "        # Objective Function\n",
    "        self.problem += pulp.lpSum(self.x[j] for j in self.J), \"Minimize_Total_Facilities\"\n",
    "        \n",
    "        # Constraints: Ensure every demand point is covered\n",
    "        for i in self.I:\n",
    "            self.problem += pulp.lpSum(self.a[(i, j)] * self.x[j] for j in self.J) >= 1, f\"Coverage_Constraint_{i}\"\n",
    "\n",
    "    def solve(self):\n",
    "        \"\"\"\n",
    "        Solves the set covering problem and prints the results.\n",
    "        \"\"\"\n",
    "        self.problem.solve()\n",
    "        print(f\"Status: {pulp.LpStatus[self.problem.status]}\")\n",
    "        \n",
    "        # Print the solution\n",
    "        for j in self.J:\n",
    "            if self.x[j].value() == 1:\n",
    "                print(f\"Facility at location {j} is allocated.\")\n",
    "\n"
   ]
  },
  {
   "cell_type": "markdown",
   "metadata": {},
   "source": [
    "Example:"
   ]
  },
  {
   "cell_type": "code",
   "execution_count": null,
   "metadata": {},
   "outputs": [],
   "source": [
    "# Example usage\n",
    "I = [1, 2, 3]  # Demand points\n",
    "J = [1, 2, 3, 4]  # Potential facility locations\n",
    "d = {(1, 1): 2, (1, 2): 3, (1, 3): 3, (1, 4): 1,\n",
    "     (2, 1): 4, (2, 2): 2, (2, 3): 1, (2, 4): 3,\n",
    "     (3, 1): 3, (3, 2): 4, (3, 3): 2, (3, 4): 2}  # Distances\n",
    "s = 3  # Service level\n",
    "\n",
    "# Create and solve the model\n",
    "problem = SetCoveringProblem(I, J, d, s)\n",
    "problem.build_model()\n",
    "problem.solve()"
   ]
  },
  {
   "cell_type": "markdown",
   "metadata": {},
   "source": []
  }
 ],
 "metadata": {
  "kernelspec": {
   "display_name": "Python 3",
   "language": "python",
   "name": "python3"
  },
  "language_info": {
   "codemirror_mode": {
    "name": "ipython",
    "version": 3
   },
   "file_extension": ".py",
   "mimetype": "text/x-python",
   "name": "python",
   "nbconvert_exporter": "python",
   "pygments_lexer": "ipython3",
   "version": "3.10.3"
  }
 },
 "nbformat": 4,
 "nbformat_minor": 2
}
