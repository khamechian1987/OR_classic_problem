{
 "cells": [
  {
   "cell_type": "markdown",
   "metadata": {},
   "source": [
    "## **Fixed charge location problem**\n"
   ]
  },
  {
   "cell_type": "markdown",
   "metadata": {},
   "source": [
    "finding a balance between benefit of covering demands and cost of building facilities.\n"
   ]
  },
  {
   "cell_type": "markdown",
   "metadata": {},
   "source": [
    "**_MIP Model_**\n"
   ]
  },
  {
   "cell_type": "markdown",
   "metadata": {},
   "source": [
    "**_Indices and Parameters_**\n",
    "\n",
    "-   $I = \\{1, 2, ..., m\\}$: A set of demand points.\n",
    "-   $J = \\{1, 2, ..., n\\}$: A set of potential facility locations.\n",
    "-   $d_{ij}$: unit shipping cost of $i$ to location $j$.\n",
    "-   $f_{j}$: building cost at location $j$.\n",
    "-   $h_{j}$: demand size of $i$\n"
   ]
  },
  {
   "cell_type": "markdown",
   "metadata": {},
   "source": [
    "**_Decision Variables_**\n",
    "\n",
    "-   $x_j$: Binary variable that equals 1 if a facility is allocated at location $j$ and 0 otherwise, for $j \\in J$.\n",
    "-   $y_{i,j}$: Binary variable that equals 1 if a demand $i$ is covered by $i$\n"
   ]
  },
  {
   "cell_type": "markdown",
   "metadata": {},
   "source": [
    "**_Objective Function_**\n",
    "\n",
    "Minimize Total Cost:\n",
    "\n",
    "$$\n",
    "\\text{Minimize} \\quad Z = \\sum_{j \\in J} f_j x_j + \\sum_{i \\in I} \\sum_{j \\in J} d_{ij} h_i y_{ij}\n",
    "$$\n",
    "\n",
    "1. **Demand Fulfillment Constraint**:\n",
    "   Each demand point must be served by exactly one facility.\n",
    "\n",
    "    $$\n",
    "    \\sum_{j \\in J} y_{ij} = 1 \\quad \\forall i \\in I\n",
    "    $$\n",
    "\n",
    "2. **Facility Allocation Constraint**:\n",
    "   A demand point \\(i\\) can only be served by a facility \\(j\\) if that facility is actually established.\n",
    "\n",
    "    $$\n",
    "    y_{ij} \\leq x_j \\quad \\forall i \\in I, \\forall j \\in J\n",
    "    $$\n",
    "\n",
    "3. **Binary Conditions**:\n",
    "   The decision variables must be binary.\n",
    "    $$\n",
    "    x_j \\in \\{0,1\\} \\quad \\forall j \\in J\n",
    "    $$\n",
    "    $$\n",
    "    y_{ij} \\in \\{0,1\\} \\quad \\forall i \\in I, \\forall j \\in J\n",
    "    $$\n"
   ]
  },
  {
   "cell_type": "markdown",
   "metadata": {},
   "source": [
    "**_Code_**\n"
   ]
  },
  {
   "cell_type": "code",
   "execution_count": 29,
   "metadata": {},
   "outputs": [],
   "source": [
    "import pulp\n",
    "class FixedChargeFLP:\n",
    "    def __init__(self, I, J, f, h, d):\n",
    "        self.I = I\n",
    "        self.J = J\n",
    "        self.f = f\n",
    "        self.h = h\n",
    "        self.d = d\n",
    "\n",
    "        # Initialize the problem\n",
    "        self.problem = pulp.LpProblem(\"FixedChargeFLP\", pulp.LpMinimize)\n",
    "\n",
    "        #DVs\n",
    "        self.x = pulp.LpVariable.dicts(\"x\", self.J, cat = pulp.LpBinary)\n",
    "        self.y = pulp.LpVariable.dicts(\"y\", [(i,j) for i in self.I for j in self.J], cat = pulp.LpBinary)\n",
    "\n",
    "    def model(self):\n",
    "        #obj\n",
    "        self.problem += pulp.lpSum(self.x[j]*self.f[j] for j in self.J)\n",
    "        + pulp.lpSum(self.d[(i,j)] * self.y[(i,j)] * self.h[i] for i in self.I for j in self.J)\n",
    "\n",
    "        #constraints:\n",
    "        #1: Each demand point must be served by exactly one facility.\n",
    "        for i in self.I:\n",
    "            self.problem += pulp.lpSum(self.y[(i,j)] for j in self.J) == 1\n",
    "        \n",
    "        #2: Facility Allocation Constraint\n",
    "        for i in self.I:\n",
    "            for j in self.J:\n",
    "                self.problem += self.y[(i,j)] <= self.x[j]\n",
    "\n",
    "    def solve(self):\n",
    "        self.problem.solve()\n",
    "        print(f\"Status: {pulp.LpStatus[self.problem.status]}\")\n",
    "        if self.problem.status == pulp.LpStatusOptimal:\n",
    "            print(f\"Optimal value: {pulp.value(self.problem.objective)}\")\n",
    "\n",
    "        for j in self.J:\n",
    "            print(f\"x[{j}] = {self.x[j].varValue}\")\n",
    "        for i in self.I:\n",
    "            for j in self.J:\n",
    "                print(f\"y[{i},{j}] = {self.y[(i,j)].varValue}\")\n",
    "        #print Xj\n",
    "        for j in self.J:\n",
    "            if self.x[j].value() == 1:\n",
    "                print(f\"Facility at location {j} is allocated.\")\n",
    "        \n",
    "        #printing yij\n",
    "        for i in self.I:\n",
    "            for j in self.J:\n",
    "                if self.y[(i,j)].value() == 1:\n",
    "                    print(f\"demand {i} is covered by facility {j}\")\n",
    "\n",
    "        \n",
    "\n"
   ]
  },
  {
   "cell_type": "code",
   "execution_count": 30,
   "metadata": {},
   "outputs": [
    {
     "name": "stdout",
     "output_type": "stream",
     "text": [
      "Status: Optimal\n",
      "Optimal value: 1000.0\n",
      "x[1] = 1.0\n",
      "x[2] = 0.0\n",
      "x[3] = 0.0\n",
      "y[1,1] = 1.0\n",
      "y[1,2] = 0.0\n",
      "y[1,3] = 0.0\n",
      "y[2,1] = 1.0\n",
      "y[2,2] = 0.0\n",
      "y[2,3] = 0.0\n",
      "Facility at location 1 is allocated.\n",
      "demand 1 is covered by facility 1\n",
      "demand 2 is covered by facility 1\n"
     ]
    },
    {
     "ename": "NameError",
     "evalue": "name 'self' is not defined",
     "output_type": "error",
     "traceback": [
      "\u001b[1;31m---------------------------------------------------------------------------\u001b[0m",
      "\u001b[1;31mNameError\u001b[0m                                 Traceback (most recent call last)",
      "Cell \u001b[1;32mIn [30], line 11\u001b[0m\n\u001b[0;32m      9\u001b[0m flp\u001b[38;5;241m.\u001b[39mmodel()\n\u001b[0;32m     10\u001b[0m flp\u001b[38;5;241m.\u001b[39msolve()\n\u001b[1;32m---> 11\u001b[0m \u001b[38;5;28;01mfor\u001b[39;00m j \u001b[38;5;129;01min\u001b[39;00m \u001b[38;5;28;43mself\u001b[39;49m\u001b[38;5;241m.\u001b[39mJ:\n\u001b[0;32m     12\u001b[0m     \u001b[38;5;28mprint\u001b[39m(\u001b[38;5;124mf\u001b[39m\u001b[38;5;124m\"\u001b[39m\u001b[38;5;124mx[\u001b[39m\u001b[38;5;132;01m{\u001b[39;00mj\u001b[38;5;132;01m}\u001b[39;00m\u001b[38;5;124m] = \u001b[39m\u001b[38;5;132;01m{\u001b[39;00m\u001b[38;5;28mself\u001b[39m\u001b[38;5;241m.\u001b[39mx[j]\u001b[38;5;241m.\u001b[39mvarValue\u001b[38;5;132;01m}\u001b[39;00m\u001b[38;5;124m\"\u001b[39m)\n\u001b[0;32m     13\u001b[0m \u001b[38;5;28;01mfor\u001b[39;00m i \u001b[38;5;129;01min\u001b[39;00m \u001b[38;5;28mself\u001b[39m\u001b[38;5;241m.\u001b[39mI:\n",
      "\u001b[1;31mNameError\u001b[0m: name 'self' is not defined"
     ]
    }
   ],
   "source": [
    "# Example data\n",
    "I = [1, 2]  # Demand points\n",
    "J = [1, 2, 3]  # Facility locations\n",
    "f = {1: 1000, 2: 1500, 3: 2000}  # Fixed costs\n",
    "h = {1: 10, 2: 20}  # Demand sizes\n",
    "d = {(1, 1): 4, (1, 2): 6, (1, 3): 8, (2, 1): 10, (2, 2): 12, (2, 3): 14}  # Shipping costs\n",
    "\n",
    "flp = FixedChargeFLP(I, J, f, h, d)\n",
    "flp.model()\n",
    "flp.solve()\n",
    "for j in J:\n",
    "    print(f\"x[{j}] = {flp.x[j].varValue}\")\n",
    "for i in I:\n",
    "    for j in J:\n",
    "        print(f\"y[{i},{j}] = {flp.y[(i,j)].varValue}\")"
   ]
  }
 ],
 "metadata": {
  "kernelspec": {
   "display_name": "Python 3",
   "language": "python",
   "name": "python3"
  },
  "language_info": {
   "codemirror_mode": {
    "name": "ipython",
    "version": 3
   },
   "file_extension": ".py",
   "mimetype": "text/x-python",
   "name": "python",
   "nbconvert_exporter": "python",
   "pygments_lexer": "ipython3",
   "version": "3.10.3"
  }
 },
 "nbformat": 4,
 "nbformat_minor": 2
}
