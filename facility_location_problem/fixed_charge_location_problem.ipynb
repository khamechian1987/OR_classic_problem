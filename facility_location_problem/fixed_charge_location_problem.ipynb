{
 "cells": [
  {
   "cell_type": "markdown",
   "metadata": {},
   "source": [
    "## **Fixed charge location problem**"
   ]
  },
  {
   "cell_type": "markdown",
   "metadata": {},
   "source": [
    "finding a balance between benefit of covering demands and cost of building facilities."
   ]
  },
  {
   "cell_type": "markdown",
   "metadata": {},
   "source": [
    " ***MIP Model***"
   ]
  },
  {
   "cell_type": "markdown",
   "metadata": {},
   "source": []
  }
 ],
 "metadata": {
  "language_info": {
   "name": "python"
  }
 },
 "nbformat": 4,
 "nbformat_minor": 2
}
