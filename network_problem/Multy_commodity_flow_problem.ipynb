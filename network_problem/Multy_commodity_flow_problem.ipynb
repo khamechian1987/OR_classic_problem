{
 "cells": [
  {
   "cell_type": "markdown",
   "metadata": {},
   "source": [
    "# **Multy commodity flow problem**"
   ]
  },
  {
   "cell_type": "markdown",
   "metadata": {},
   "source": [
    " ***MIP Model***"
   ]
  },
  {
   "cell_type": "markdown",
   "metadata": {},
   "source": [
    "**Sets and Indices**"
   ]
  },
  {
   "cell_type": "markdown",
   "metadata": {},
   "source": [
    "- **I**: Set of source nodes\n",
    "- **J**: Set of destination nodes\n",
    "- **K**: Set of commodities"
   ]
  },
  {
   "cell_type": "markdown",
   "metadata": {},
   "source": [
    "**Parameters**"
   ]
  },
  {
   "cell_type": "markdown",
   "metadata": {},
   "source": [
    "- $c_{ijk}$: Cost of transporting one unit of commodity *k* from source *i* to destination *j*\n",
    "- $f_{ijk}$: Fixed cost for using the route from source *i* to destination *j* for commodity *k*\n",
    "- $r_{ijk}$: Revenue generated from transporting one unit of commodity *k* from source *i* to destination *j*\n",
    "- $d_{jk}$: Demand for commodity *k* at destination *j*\n",
    "- $s_{ik}$: Supply of commodity *k* at source *i*\n",
    "- $M$: A large constant (big-M) to ensure constraints work correctly"
   ]
  },
  {
   "cell_type": "markdown",
   "metadata": {},
   "source": [
    "**Decision variables**"
   ]
  },
  {
   "cell_type": "markdown",
   "metadata": {},
   "source": [
    "- $x_{ijk}$: Amount of commodity *k* transported from source *i* to destination *j*\n",
    "- $v_{jk}$: Amount of demand served for commodity *k* at destination *j*\n",
    "- $y_{ijk}$: Binary variable, equals 1 if any commodity *k* is transported from source *i* to destination *j*, 0 otherwise"
   ]
  },
  {
   "cell_type": "markdown",
   "metadata": {},
   "source": [
    "**Objective function**"
   ]
  },
  {
   "cell_type": "markdown",
   "metadata": {},
   "source": [
    "1. Minimize Costs Associated with Flow\n",
    "$$\n",
    "\\text{Minimize } Z_1 = \\sum_{i \\in I} \\sum_{j \\in J} \\sum_{k \\in K} (c_{ijk} x_{ijk} + f_{ijk} y_{ijk})\n",
    "$$\n",
    "\n",
    "2. Maximize Revenues\n",
    "$$\n",
    "\\text{Maximize } Z_2 = \\sum_{i \\in I} \\sum_{j \\in J} \\sum_{k \\in K} r_{ijk} x_{ijk} y_{ijk}\n",
    "$$\n",
    "\n",
    "3. Maximize Demand Served\n",
    "$$\n",
    "\\text{Maximize } Z_3 = \\sum_{j \\in J} \\sum_{k \\in K} v_{jk}\n",
    "$$\n",
    "\n",
    "4. Minimize Spillage\n",
    "\n",
    "$$\n",
    "\\text{Minimize } Z_4 = \\sum_{j \\in J} \\sum_{k \\in K} (d_{jk} - \\sum_{i \\in I} x_{ijk} y_{ijk})\n",
    "$$\n"
   ]
  },
  {
   "cell_type": "markdown",
   "metadata": {},
   "source": [
    "**Constraints**"
   ]
  },
  {
   "cell_type": "markdown",
   "metadata": {},
   "source": [
    "1. Flow Conservation at Source Nodes\n",
    "$$\n",
    "\\sum_{j \\in J} x_{ijk} \\leq s_{ik} \\quad \\forall i \\in I, \\forall k \\in K\n",
    "$$\n",
    "\n",
    "2. Flow Conservation at Destination Nodes\n",
    "$$\n",
    "\\sum_{i \\in I} x_{ijk} + (d_{jk} - \\sum_{i \\in I} x_{ijk}) = d_{jk} \\quad \\forall j \\in J, \\forall k \\in K\n",
    "$$\n",
    "\n",
    "3. Demand Served Constraint\n",
    "$$\n",
    "v_{jk} = \\sum_{i \\in I} x_{ijk} y_{ijk} \\quad \\forall j \\in J, \\forall k \\in K\n",
    "$$\n",
    "\n",
    "4. Route Usage Constraint\n",
    "$$\n",
    "x_{ijk} \\leq M \\cdot y_{ijk} \\quad \\forall i \\in I, \\forall j \\in J, \\forall k \\in K\n",
    "$$\n",
    "\n"
   ]
  },
  {
   "cell_type": "markdown",
   "metadata": {},
   "source": [
    "**Full Model**"
   ]
  },
  {
   "cell_type": "markdown",
   "metadata": {},
   "source": [
    "$$\n",
    "\\begin{align*}\n",
    "\\text{Minimize } & Z = w_1 \\sum_{i \\in I} \\sum_{j \\in J} \\sum_{k \\in K} (c_{ijk} x_{ijk} + f_{ijk} y_{ijk}) - w_2 \\sum_{i \\in I} \\sum_{j \\in J} \\sum_{k \\in K} r_{ijk} x_{ijk} y_{ijk} - w_3 \\sum_{j \\in J} \\sum_{k \\in K} v_{jk} + w_4 \\sum_{j \\in J} \\sum_{k \\in K} (d_{jk} - \\sum_{i \\in I} x_{ijk} y_{ijk}) \\\\\n",
    "\\text{subject to} \\quad & \\sum_{j \\in J} x_{ijk} \\leq s_{ik} \\quad \\forall i \\in I, \\forall k \\in K \\\\\n",
    "& \\sum_{i \\in I} x_{ijk} = v_{jk} \\quad \\forall j \\in J, \\forall k \\in K \\\\\n",
    "& v_{jk} = \\sum_{i \\in I} x_{ijk} y_{ijk} \\quad \\forall j \\in J, \\forall k \\in K \\\\\n",
    "& x_{ijk} \\leq M \\cdot y_{ijk} \\quad \\forall i \\in I, \\forall j \\in J, \\forall k \\in K \\\\\n",
    "& x_{ijk} \\geq 0 \\quad \\forall i \\in I, \\forall j \\in J, \\forall k \\in K \\\\\n",
    "& v_{jk} \\geq 0 \\quad \\forall j \\in J, \\forall k in K \\\\\n",
    "& y_{ijk} \\in \\{0, 1\\} \\quad \\forall i \\in I, \\forall j \\in J, \\forall k \\in K\n",
    "\\end{align*}\n",
    "$$"
   ]
  },
  {
   "cell_type": "markdown",
   "metadata": {},
   "source": [
    "**code**"
   ]
  },
  {
   "cell_type": "code",
   "execution_count": 29,
   "metadata": {},
   "outputs": [],
   "source": [
    "import pulp\n",
    "class MultyCommodityFlow:\n",
    "    def __init__(self, I,J,K,c,f,r,d,s,M,w1,w2,w3,w4):\n",
    "        # Sets\n",
    "        self.I = I  # Set of source nodes\n",
    "        self.J = J  # Set of destination nodes\n",
    "        self.K = K  # Set of commodities\n",
    "        \n",
    "        # Parameters\n",
    "        self.c = c  # Cost of transporting one unit of commodity k from source i to destination j\n",
    "        self.f = f  # Fixed cost for using the route from source i to destination j for commodity k\n",
    "        self.r = r  # Revenue generated from transporting one unit of commodity k from source i to destination j\n",
    "        self.d = d  # Demand for commodity k at destination j\n",
    "        self.s = s  # Supply of commodity k at source i\n",
    "        self.M = M\n",
    "        self.w1 = w1  # Weight for the cost objective\n",
    "        self.w2 = w2  # Weight for the revenue objective\n",
    "        self.w3 = w3  # Weight for the demand served objective\n",
    "        self.w4 = w4  # Weight for the spillage objective\n",
    "\n",
    "        #initialize the problem\n",
    "        self.problem = pulp.LpProblem(\"MultyCommodityFlow\", pulp.LpMinimize)\n",
    "\n",
    "        #decition variables\n",
    "        self.x = pulp.LpVariable.dicts(\"x\", [(i,j,k) for i in self.I for j in self.J for k in self.K], lowBound=0, cat = pulp.LpContinuous)\n",
    "        self.y = pulp.LpVariable.dicts(\"y\", [(i,j,k) for i in self.I for j in self.J for k in self.K], cat = pulp.LpBinary)\n",
    "        self.v = pulp.LpVariable.dicts(\"v\", [(j,k) for j in self.J for k in self.K], lowBound=0, cat = pulp.LpContinuous)\n",
    "        self.z = pulp.LpVariable.dicts(\"z\", [(i, j, k) for i in self.I for j in self.J for k in self.K], lowBound=0, cat=pulp.LpContinuous)\n",
    "\n",
    "    def build_model(self):\n",
    "        #objective func\n",
    "        self.problem += (\n",
    "            self.w1 * (\n",
    "            pulp.lpSum(self.c[i, j, k] * self.x[i, j, k] for i in self.I for j in self.J for k in self.K) \n",
    "            + pulp.lpSum(self.f[i, j, k] * self.y[i, j, k] for i in self.I for j in self.J for k in self.K)\n",
    "        )\n",
    "            - self.w2 * pulp.lpSum(self.r[i, j, k] * self.z[i, j, k] for i in self.I for j in self.J for k in self.K)\n",
    "            - self.w3 * pulp.lpSum(self.v[j, k] for j in self.J for k in self.K)\n",
    "            + self.w4 * (\n",
    "                pulp.lpSum(self.d[j, k] for j in self.J for k in self.K)\n",
    "                - pulp.lpSum(self.z[i, j, k] for i in self.I for j in self.J for k in self.K)\n",
    "            )\n",
    "        )\n",
    "        \n",
    "        #contraints\n",
    "        #1. Flow conservation at source nodes\n",
    "        for i in self.I:\n",
    "            for k in self.K:\n",
    "                self.problem += pulp.lpSum(self.x[i,j,k] for j in self.J) <= self.s[i,k]\n",
    "        #2. Flow conservation at destination nodes\n",
    "        for j in self.J:\n",
    "            for k in self.K:\n",
    "                self.problem += pulp.lpSum(self.x[i,j,k] for i in self.I) == self.d[j,k]\n",
    "        \n",
    "        # 3. Definition of z (auxiliary variable for product of x and y)\n",
    "        for i in self.I:\n",
    "            for j in self.J:\n",
    "                for k in self.K:\n",
    "                    self.problem += self.z[i, j, k] <= self.M * self.y[i, j, k]  # if y is 0, then z must be 0\n",
    "                    self.problem += self.z[i, j, k] <= self.x[i, j, k]  #ensure z does not exceed x\n",
    "                    self.problem += self.z[i, j, k] >= self.x[i, j, k] - self.M * (1 - self.y[i, j, k])  # if y is 1, then z must be equal to x. \n",
    "                                                                                                         #if y is 0, this constraint is non-binding because th eright hand side is negative\n",
    "        #4. Linking x and y with big M\n",
    "        for i in self.I:\n",
    "            for j in self.J:\n",
    "                for k in self.K:\n",
    "                    self.problem += self.x[i,j,k] <= self.M * self.y[i,j,k]\n",
    "        # # 5. Definition of v (amount of demand served at each destination)\n",
    "        # for j in self.J:\n",
    "        #     for k in self.K:\n",
    "        #         self.problem += self.v[j, k] == pulp.lpSum(self.x[i, j, k] for i in self.I)\n",
    "    \n",
    "    def clean_output(self, value, tol=1e-10):\n",
    "        if abs(value) < tol:\n",
    "            return 0\n",
    "        elif abs(value - 1) < tol:\n",
    "            return 1\n",
    "        elif abs(value) > tol and abs(value) < 1 - tol:\n",
    "            raise ValueError(f\"Unexpected value for binary variable: {value}\")\n",
    "        return value\n",
    "    \n",
    "    def solve(self):\n",
    "        # Solve the problem\n",
    "        self.problem.solve(pulp.CPLEX_PY(msg=True))\n",
    "        \n",
    "        # Print the status of the solution\n",
    "        status = pulp.LpStatus[self.problem.status]\n",
    "        print(\"\\nObjective Value:\", pulp.value(self.problem.objective))\n",
    "        print(\"Status:\", status)\n",
    "        \n",
    "        # If the solution is feasible, print the values of the decision variables\n",
    "        if status == 'Optimal' or status == 'Feasible':\n",
    "            print(\"\\nDecision Variables:\")\n",
    "            for v in self.problem.variables():\n",
    "                try:\n",
    "                    print(v.name, \"=\", self.clean_output(v.varValue))\n",
    "                except ValueError as e:\n",
    "                    print(v.name, \"=\", v.varValue, \" (Error: \", str(e), \")\")\n",
    "\n",
    "            # Detailed breakdown of objective value components\n",
    "            cost_x = sum(self.c[i, j, k] * self.x[i, j, k].varValue for i in self.I for j in self.J for k in self.K)\n",
    "            cost_y = sum(self.f[i, j, k] * self.y[i, j, k].varValue for i in self.I for j in self.J for k in self.K)\n",
    "            print(\"\\nBreakdown of Objective Value:\")\n",
    "            print(\"Cost from x variables:\", cost_x)\n",
    "            print(\"Cost from y variables:\", cost_y)\n",
    "            print(\"Total Objective Value:\", cost_x + cost_y)\n",
    "        else:\n",
    "            print(\"No feasible solution found.\")"
   ]
  },
  {
   "cell_type": "code",
   "execution_count": 31,
   "metadata": {},
   "outputs": [
    {
     "name": "stdout",
     "output_type": "stream",
     "text": [
      "Version identifier: 22.1.1.0 | 2023-06-15 | d64d5bd77\n",
      "CPXPARAM_Read_DataCheck                          1\n",
      "Found incumbent of value 10120.000000 after 0.00 sec. (0.00 ticks)\n",
      "Tried aggregator 3 times.\n",
      "MIP Presolve eliminated 21 rows and 4 columns.\n",
      "MIP Presolve modified 40 coefficients.\n",
      "Aggregator did 14 substitutions.\n",
      "Reduced MIP has 5 rows, 6 columns, and 10 nonzeros.\n",
      "Reduced MIP has 4 binaries, 0 generals, 0 SOSs, and 0 indicators.\n",
      "Presolve time = 0.00 sec. (0.08 ticks)\n",
      "Probing time = 0.00 sec. (0.00 ticks)\n",
      "Tried aggregator 1 time.\n",
      "Reduced MIP has 5 rows, 6 columns, and 10 nonzeros.\n",
      "Reduced MIP has 4 binaries, 0 generals, 0 SOSs, and 0 indicators.\n",
      "Presolve time = 0.00 sec. (0.01 ticks)\n",
      "Probing time = 0.00 sec. (0.00 ticks)\n",
      "Clique table members: 3.\n",
      "MIP emphasis: balance optimality and feasibility.\n",
      "MIP search method: dynamic search.\n",
      "Parallel mode: deterministic, using up to 16 threads.\n",
      "Root relaxation solution time = 0.00 sec. (0.00 ticks)\n",
      "\n",
      "        Nodes                                         Cuts/\n",
      "   Node  Left     Objective  IInf  Best Integer    Best Bound    ItCnt     Gap\n",
      "\n",
      "*     0+    0                         9990.0000     7050.0000            29.43%\n",
      "*     0+    0                         7945.0000     7050.0000            11.26%\n",
      "      0     0     7891.4286     2     7945.0000     7891.4286        1    0.67%\n",
      "*     0+    0                         7925.0000     7891.4286             0.42%\n",
      "      0     0        cutoff           7925.0000                      4    0.00%\n",
      "Elapsed time = 0.05 sec. (0.14 ticks, tree = 0.01 MB, solutions = 3)\n",
      "\n",
      "Clique cuts applied:  1\n",
      "Flow cuts applied:  1\n",
      "\n",
      "Root node processing (before b&c):\n",
      "  Real time             =    0.05 sec. (0.14 ticks)\n",
      "Parallel b&c, 16 threads:\n",
      "  Real time             =    0.00 sec. (0.00 ticks)\n",
      "  Sync time (average)   =    0.00 sec.\n",
      "  Wait time (average)   =    0.00 sec.\n",
      "                          ------------\n",
      "Total (root+branch&cut) =    0.05 sec. (0.14 ticks)\n",
      "Cplex status= 101\n",
      "\n",
      "Objective Value: 7924.999999999998\n",
      "Status: Optimal\n",
      "\n",
      "Decision Variables:\n",
      "x_(1,_1,_1) = 30.0\n",
      "x_(1,_1,_2) = 60.000000000000014\n",
      "x_(1,_2,_1) = 70.0\n",
      "x_(1,_2,_2) = 80.00000000000001\n",
      "x_(2,_1,_1) = 20.0\n",
      "x_(2,_1,_2) = 0\n",
      "x_(2,_2,_1) = 0\n",
      "x_(2,_2,_2) = 0\n",
      "y_(1,_1,_1) = 1\n",
      "y_(1,_1,_2) = 1\n",
      "y_(1,_2,_1) = 1\n",
      "y_(1,_2,_2) = 1\n",
      "y_(2,_1,_1) = 1\n",
      "y_(2,_1,_2) = 0\n",
      "y_(2,_2,_1) = 0\n",
      "y_(2,_2,_2) = 0\n",
      "z_(1,_1,_1) = 30.0\n",
      "z_(1,_1,_2) = 60.000000000000014\n",
      "z_(1,_2,_1) = 70.0\n",
      "z_(1,_2,_2) = 80.00000000000001\n",
      "z_(2,_1,_1) = 20.0\n",
      "z_(2,_1,_2) = 0\n",
      "z_(2,_2,_1) = 0\n",
      "z_(2,_2,_2) = 0\n",
      "\n",
      "Breakdown of Objective Value:\n",
      "Cost from x variables: 7799.999999999998\n",
      "Cost from y variables: 125.0\n",
      "Total Objective Value: 7924.999999999998\n"
     ]
    }
   ],
   "source": [
    "# Example sets and parameters by just considering the first objective function\n",
    "I = [1, 2]\n",
    "J = [1, 2]\n",
    "K = [1, 2]\n",
    "c = {(1, 1, 1): 10, (1, 1, 2): 20, (1, 2, 1): 30, (1, 2, 2): 40, (2, 1, 1): 50, (2, 1, 2): 60, (2, 2, 1): 70, (2, 2, 2): 80}\n",
    "f = {(1, 1, 1): 5, (1, 1, 2): 15, (1, 2, 1): 25, (1, 2, 2): 35, (2, 1, 1): 45, (2, 1, 2): 55, (2, 2, 1): 65, (2, 2, 2): 75}\n",
    "r = {(1, 1, 1): 100, (1, 1, 2): 200, (1, 2, 1): 300, (1, 2, 2): 400, (2, 1, 1): 500, (2, 1, 2): 600, (2, 2, 1): 700, (2, 2, 2): 800}\n",
    "d = {(1, 1): 50, (1, 2): 60, (2, 1): 70, (2, 2): 80}\n",
    "s = {(1, 1): 100, (1, 2): 200, (2, 1): 300, (2, 2): 400}\n",
    "M = 1000\n",
    "w1, w2, w3, w4 = 1, 0, 0, 0\n",
    "\n",
    "# Create an instance of the MultyCommodityFlow class\n",
    "model = MultyCommodityFlow(I, J, K, c, f, r, d, s, M, w1, w2, w3, w4)\n",
    "\n",
    "# Build the model\n",
    "model.build_model()\n",
    "\n",
    "# Solve the problem\n",
    "model.solve()"
   ]
  }
 ],
 "metadata": {
  "kernelspec": {
   "display_name": "Python 3",
   "language": "python",
   "name": "python3"
  },
  "language_info": {
   "codemirror_mode": {
    "name": "ipython",
    "version": 3
   },
   "file_extension": ".py",
   "mimetype": "text/x-python",
   "name": "python",
   "nbconvert_exporter": "python",
   "pygments_lexer": "ipython3",
   "version": "3.11.9"
  }
 },
 "nbformat": 4,
 "nbformat_minor": 2
}
