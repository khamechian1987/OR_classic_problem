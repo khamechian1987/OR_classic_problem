{
 "cells": [
  {
   "cell_type": "markdown",
   "metadata": {},
   "source": [
    "# **Maximum Flow Problem**"
   ]
  },
  {
   "cell_type": "markdown",
   "metadata": {},
   "source": [
    "The Maximum Flow Problem is a fundamental problem in network optimization where the objective is to find the maximum amount of flow that can be pushed from a source node to a sink node in a network. Each edge in the network has a capacity that restricts the maximum flow through that edge. The problem has wide applications, including transportation systems, telecommunications, and flow control in manufacturing processes."
   ]
  },
  {
   "cell_type": "markdown",
   "metadata": {},
   "source": [
    "**_MIP Model_**"
   ]
  },
  {
   "cell_type": "markdown",
   "metadata": {},
   "source": [
    "**_Indices and Parameters_**\n",
    "\n",
    "-   $i,j$ = Indices representing nodes in the graph.\n",
    "-   $(i,j)$ = Directed arc from node $i$ to node $j$.\n",
    "\n",
    "-   $c_{ij}$: Capacity of arc $(i,j)$, indicating the maximum flow that can traverse this arc.\n",
    "-   $s$: Index of the source node, where the flow originates.\n",
    "-   $t$: Index of the sink node, where the flow is targeted."
   ]
  },
  {
   "cell_type": "markdown",
   "metadata": {},
   "source": [
    "**_Decision Variables_**\n",
    "\n",
    "-   $f_{i,j}$: flow on arc $(i,j)$.This represents the flow amount that is sent from node $i$ to node $j$\n"
   ]
  },
  {
   "cell_type": "markdown",
   "metadata": {},
   "source": [
    "### Objective Function\n",
    "\n",
    "Maximize the net flow from the source node \\(s\\) to the sink node \\(t\\):\n",
    "\n",
    "$$\n",
    "\\text{Maximize} \\quad \\sum_{j | (s,j) \\in A} f_{sj} - \\sum_{i | (i,s) \\in A} f_{is}\n",
    "$$\n",
    "\n",
    "### Constraints\n",
    "\n",
    "1. **Capacity Constraints**:\n",
    "\n",
    "   Ensure that the flow on each arc does not exceed its capacity:\n",
    "\n",
    "   $$\n",
    "   f_{ij} \\leq c_{ij} \\quad \\forall (i, j) \\in A\n",
    "   $$\n",
    "\n",
    "2. **Flow Conservation Constraints**:\n",
    "\n",
    "   At every node (except the source and sink), the incoming flow must equal the outgoing flow:\n",
    "\n",
    "   $$\n",
    "   \\sum_{j | (j,i) \\in A} f_{ji} = \\sum_{j | (i,j) \\in A} f_{ij} \\quad \\forall i \\in V \\setminus \\{s, t\\}\n",
    "   $$\n",
    "\n",
    "3. **Non-negativity Constraints**:\n",
    "\n",
    "   The flow on all arcs must be non-negative:\n",
    "\n",
    "   $$\n",
    "   f_{ij} \\geq 0 \\quad \\forall (i, j) \\in A\n",
    "   $$\n",
    "\n"
   ]
  },
  {
   "cell_type": "markdown",
   "metadata": {
    "vscode": {
     "languageId": "plaintext"
    }
   },
   "source": [
    "# Code"
   ]
  },
  {
   "cell_type": "code",
   "execution_count": 5,
   "metadata": {},
   "outputs": [],
   "source": [
    "import pulp\n",
    "class MaxFlowProblem:\n",
    "    def __init__(self, nodes, arcs, s, t, c):\n",
    "        self.nodes = nodes # List of all nodes\n",
    "        self.arcs = arcs # List of tuples (i, j) representing directed arcs\n",
    "        self.s = s\n",
    "        self.t = t\n",
    "        self.c = c  # Dictionary with capacities for arcs\n",
    "\n",
    "        # Initialize the problem\n",
    "        self.problem = pulp.LpProblem(\"MaxFlowProblem\", pulp.LpMaximize)\n",
    "\n",
    "        #Decision variables\n",
    "        self.f = pulp.LpVariable.dicts(\"flow\", self.arcs, lowBound=0, cat=pulp.LpContinuous)\n",
    "    \n",
    "    def build_model(self):\n",
    "\n",
    "        #objective function\n",
    "        self.problem += pulp.lpSum([self.f[i,j] for (i,j) in self.arcs if i == self.s]) -  pulp.lpSum(self.f[i,j] for (i,j) in self.arcs if j == self.s)\n",
    "\n",
    "        #constraints\n",
    "        #1:Capacity Constraints\n",
    "        for i, j in self.arcs:\n",
    "            self.problem += self.f[i,j] <= self.c[(i,j)]\n",
    "        \n",
    "        #2:Flow Conservation Constraints\n",
    "        for node in self.nodes:\n",
    "            if node != self.s and node != self.t:\n",
    "                incoming_flow = pulp.lpSum([self.f[i, node] for i, _ in self.arcs if _ == node])\n",
    "                outgoing_flow = pulp.lpSum([self.f[node, j] for _, j in self.arcs if _ == node])\n",
    "                self.problem += (incoming_flow == outgoing_flow)\n",
    "        \n",
    "        #3:Non-negativity Constraints\n",
    "        #already is taken care of because we set the lower bound to zero\n",
    "\n",
    "    def solve(self):\n",
    "        # Optionally use CPLEX if available, otherwise default to PuLP's default solver\n",
    "        try:\n",
    "            self.problem.solve(pulp.CPLEX_PY(msg=True))\n",
    "        except pulp.PulpSolverError:\n",
    "            print(\"CPLEX solver not available, using default solver.\")\n",
    "            self.problem.solve()\n",
    "\n",
    "        if self.problem.status == pulp.LpStatusOptimal:\n",
    "            print(f\"Optimal value is: {pulp.value(self.problem.objective)}\")\n",
    "            # Print the flows on each arc\n",
    "            print(\"Flows on arcs:\")\n",
    "            for (i, j) in self.arcs:\n",
    "                print(f\"Flow from {i} to {j}: {self.f[i,j].varValue}\")\n",
    "        else:\n",
    "            print(\"No optimal solution found.\")"
   ]
  },
  {
   "cell_type": "code",
   "execution_count": 6,
   "metadata": {},
   "outputs": [
    {
     "name": "stdout",
     "output_type": "stream",
     "text": [
      "Version identifier: 22.1.1.0 | 2023-06-15 | d64d5bd77\n",
      "CPXPARAM_Read_DataCheck                          1\n"
     ]
    },
    {
     "name": "stdout",
     "output_type": "stream",
     "text": [
      "Found incumbent of value 0.000000 after 0.00 sec. (0.00 ticks)\n",
      "Tried aggregator 1 time.\n",
      "MIP Presolve eliminated 6 rows and 4 columns.\n",
      "All rows and columns eliminated.\n",
      "Presolve time = 0.02 sec. (0.00 ticks)\n",
      "\n",
      "Root node processing (before b&c):\n",
      "  Real time             =    0.02 sec. (0.01 ticks)\n",
      "Parallel b&c, 16 threads:\n",
      "  Real time             =    0.00 sec. (0.00 ticks)\n",
      "  Sync time (average)   =    0.00 sec.\n",
      "  Wait time (average)   =    0.00 sec.\n",
      "                          ------------\n",
      "Total (root+branch&cut) =    0.02 sec. (0.01 ticks)\n",
      "Cplex status= 101\n",
      "Optimal value is: 10.0\n",
      "Flows on arcs:\n",
      "Flow from s to a: 10.0\n",
      "Flow from a to b: 10.0\n",
      "Flow from b to t: 10.0\n",
      "Flow from a to t: 0.0\n"
     ]
    }
   ],
   "source": [
    "# Example of usage\n",
    "nodes = ['s', 'a', 'b', 't']\n",
    "arcs = [('s', 'a'), ('a', 'b'), ('b', 't'), ('a', 't')]\n",
    "capacities = {('s', 'a'): 10, ('a', 'b'): 15, ('b', 't'): 10, ('a', 't'): 10}\n",
    "problem = MaxFlowProblem(nodes, arcs, 's', 't', capacities)\n",
    "problem.build_model()\n",
    "problem.solve()"
   ]
  }
 ],
 "metadata": {
  "kernelspec": {
   "display_name": "Python 3",
   "language": "python",
   "name": "python3"
  },
  "language_info": {
   "codemirror_mode": {
    "name": "ipython",
    "version": 3
   },
   "file_extension": ".py",
   "mimetype": "text/x-python",
   "name": "python",
   "nbconvert_exporter": "python",
   "pygments_lexer": "ipython3",
   "version": "3.11.9"
  }
 },
 "nbformat": 4,
 "nbformat_minor": 2
}
