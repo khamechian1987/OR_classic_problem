{
 "cells": [
  {
   "cell_type": "markdown",
   "metadata": {},
   "source": [
    "## **VRP**"
   ]
  },
  {
   "cell_type": "markdown",
   "metadata": {},
   "source": [
    "***Indices and Parameters***\n",
    "\n",
    "- $I = J = K = \\{1, 2, ..., n\\}$: location of demands\n",
    "- $d_{ij}$: Distance from demand point $i$ to demand $j$, \n",
    "\n",
    "***Decision Variables***\n",
    "\n",
    "- $x_{i,j}$: Binary variable that equals 1 if arc $(i,j)$ is selected\n"
   ]
  },
  {
   "cell_type": "markdown",
   "metadata": {},
   "source": [
    "***Objective Function***\n",
    "\n",
    "Minimize the total traveled distance\n",
    "\n",
    "$$ \\min \\sum_{i,j} d_{ij} x_{ij} $$"
   ]
  },
  {
   "cell_type": "markdown",
   "metadata": {},
   "source": [
    "**Constraints**\n",
    "\n",
    "1. $$  \\sum_{i \\in I ,\\ i != k} x_{ik} = 1 \\quad \\forall k \\in K  $$\n",
    "2. 1. $$  \\sum_{j \\in J ,\\ J != k} x_{kj} = 1 \\quad \\forall k \\in K  $$"
   ]
  },
  {
   "cell_type": "markdown",
   "metadata": {},
   "source": [
    "**code**"
   ]
  },
  {
   "cell_type": "code",
   "execution_count": 5,
   "metadata": {},
   "outputs": [],
   "source": [
    "import pulp as p\n",
    "\n",
    "class VRP:\n",
    "    def __init__(self, I,J,K,d):\n",
    "        self.I = I \n",
    "        self.J = J \n",
    "        self.K = K\n",
    "        self.d = d\n",
    "\n",
    "        #initialize \n",
    "        self.problem = p.LpProblem(\"VRP\", p.LpMinimize)\n",
    "\n",
    "        #DVs\n",
    "        self.x = p.LpVariable.dicts(\"x\", [(i,j) for i in self.I for j in self.J if i != j], cat= p.LpBinary)\n",
    "\n",
    "    def model(self):\n",
    "        #obj\n",
    "        self.problem += p.lpSum(self.d[(i,j)] * self.x[(i,j)] for i in self.I for j in self.J if i != j)\n",
    "        #constraints\n",
    "        #1 and 2\n",
    "        for k in self.K:\n",
    "            self.problem += p.lpSum(self.x[i, k] for i in self.I if k != i) == 1\n",
    "            self.problem += p.lpSum(self.x[k, j] for j in self.J if j != k) == 1\n",
    "     # Vehicle k arrives at node j\n",
    "        #3: subtour elimination\n",
    "        #3_1:Subtour elimination: Connected Component Constraints\n",
    "        for j in self.J:\n",
    "            if j not in self.K:\n",
    "                # Sum of incoming flows to j must equal the sum of outgoing flows from j\n",
    "                self.problem += p.lpSum(self.x[(i, j)] for i in self.I if i != j) == p.lpSum(self.x[(j, i)] for i in self.I if i != j)\n",
    "\n",
    "        #3_2:\n",
    "    def solve(self):\n",
    "        self.problem.solve()\n",
    "\n",
    "        # Use CPLEX solver\n",
    "        # self.problem.solve(p.CPLEX_PY(msg=True))\n",
    "        \n",
    "        print(f\"Status: {p.LpStatus[self.problem.status]}\")\n",
    "        if self.problem.status == p.LpStatusOptimal:\n",
    "            print(f\"Optimal value is: {p.value(self.problem.objective)}\")\n",
    "            for v in self.x:\n",
    "                if p.value(self.x[v]) != 0:\n",
    "                    print(f'{v}: {p.value(self.x[v])}')\n",
    "        "
   ]
  },
  {
   "cell_type": "code",
   "execution_count": 6,
   "metadata": {},
   "outputs": [
    {
     "name": "stdout",
     "output_type": "stream",
     "text": [
      "Status: Optimal\n",
      "Optimal value is: 2.0\n",
      "(0, 2): 1.0\n",
      "(2, 0): 1.0\n"
     ]
    }
   ],
   "source": [
    "# Example usage\n",
    "I = [0, 1, 2, 3]  # Node 0 could be the depot\n",
    "J = [0, 1, 2, 3]\n",
    "K = [0]  # Assuming one vehicle starts at node 0\n",
    "d = {(i, j): 1 for i in I for j in J if i != j}  # Simple distance of 1 for demonstration\n",
    "\n",
    "vrp = VRP(I, J, K, d)\n",
    "vrp.model()\n",
    "vrp.solve()\n"
   ]
  }
 ],
 "metadata": {
  "kernelspec": {
   "display_name": "Python 3",
   "language": "python",
   "name": "python3"
  },
  "language_info": {
   "codemirror_mode": {
    "name": "ipython",
    "version": 3
   },
   "file_extension": ".py",
   "mimetype": "text/x-python",
   "name": "python",
   "nbconvert_exporter": "python",
   "pygments_lexer": "ipython3",
   "version": "3.11.9"
  }
 },
 "nbformat": 4,
 "nbformat_minor": 2
}
